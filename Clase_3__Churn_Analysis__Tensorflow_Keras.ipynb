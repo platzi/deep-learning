{
  "nbformat": 4,
  "nbformat_minor": 0,
  "metadata": {
    "colab": {
      "provenance": [],
      "collapsed_sections": [
        "fxgR3AqoTxQP"
      ]
    },
    "kernelspec": {
      "name": "python3",
      "display_name": "Python 3"
    },
    "language_info": {
      "name": "python"
    },
    "accelerator": "GPU"
  },
  "cells": [
    {
      "cell_type": "markdown",
      "source": [
        "# Curso Deep Learning\n",
        "\n",
        "<img src=\"https://yaelmanuel.com/wp-content/uploads/2021/12/platzi-banner-logo-matematicas.png\" width=\"500px\">\n",
        "\n",
        "---"
      ],
      "metadata": {
        "id": "E4OEtECGjKtp"
      }
    },
    {
      "cell_type": "markdown",
      "source": [
        "## Creando nuestro propio Churn Analysis 🤓📊\n",
        "\n",
        "En este lab aprenderás:\n",
        "\n",
        "* [Tensorflow](https://www.tensorflow.org/)\n",
        "* [Keras](https://keras.io/)\n",
        "* Descargar un dataset, prepararlo, entrenarlo, realizar finetuning y guardarlo.\n"
      ],
      "metadata": {
        "id": "p_ny9c9fjbLP"
      }
    },
    {
      "cell_type": "markdown",
      "source": [
        "### 1) Descarga del dataset 🤓\n",
        "\n",
        "Utilizaremos un conjunto de datos de un proveedor de Telecomunicaciones para su Programa de Retención.\n",
        "<br>Para más detalle acá se puede ver el dataset de Kaggle: [Telco Customer Churn](https://www.kaggle.com/datasets/blastchar/telco-customer-churn/data).\n"
      ],
      "metadata": {
        "id": "fxgR3AqoTxQP"
      }
    },
    {
      "cell_type": "code",
      "source": [
        "!pip install --upgrade --force-reinstall --no-deps kaggle"
      ],
      "metadata": {
        "colab": {
          "base_uri": "https://localhost:8080/"
        },
        "id": "5WVoiMyphoSc",
        "outputId": "684b93dd-bc9b-4c33-d6ba-986b500005c9"
      },
      "execution_count": null,
      "outputs": [
        {
          "output_type": "stream",
          "name": "stdout",
          "text": [
            "Collecting kaggle\n",
            "  Downloading kaggle-1.6.17.tar.gz (82 kB)\n",
            "\u001b[?25l     \u001b[90m━━━━━━━━━━━━━━━━━━━━━━━━━━━━━━━━━━━━━━━━\u001b[0m \u001b[32m0.0/82.7 kB\u001b[0m \u001b[31m?\u001b[0m eta \u001b[36m-:--:--\u001b[0m\r\u001b[2K     \u001b[90m━━━━━━━━━━━━━━━━━━━━━━━━━━━━━━━━━━━━━━━━\u001b[0m \u001b[32m82.7/82.7 kB\u001b[0m \u001b[31m3.4 MB/s\u001b[0m eta \u001b[36m0:00:00\u001b[0m\n",
            "\u001b[?25h  Preparing metadata (setup.py) ... \u001b[?25l\u001b[?25hdone\n",
            "Building wheels for collected packages: kaggle\n",
            "  Building wheel for kaggle (setup.py) ... \u001b[?25l\u001b[?25hdone\n",
            "  Created wheel for kaggle: filename=kaggle-1.6.17-py3-none-any.whl size=105786 sha256=51f209c40136b659952d1f238cfc0d9e89254802e24f18481979dd3a2d72ef74\n",
            "  Stored in directory: /root/.cache/pip/wheels/ff/55/fb/b27a466be754d2a06ffe0e37b248d844f090a63b51becea85d\n",
            "Successfully built kaggle\n",
            "Installing collected packages: kaggle\n",
            "  Attempting uninstall: kaggle\n",
            "    Found existing installation: kaggle 1.6.17\n",
            "    Uninstalling kaggle-1.6.17:\n",
            "      Successfully uninstalled kaggle-1.6.17\n",
            "Successfully installed kaggle-1.6.17\n"
          ]
        }
      ]
    },
    {
      "cell_type": "code",
      "source": [
        "from google.colab import files\n",
        "files.upload()"
      ],
      "metadata": {
        "colab": {
          "base_uri": "https://localhost:8080/",
          "height": 92
        },
        "id": "Lv-i750ghtiv",
        "outputId": "1a003f7e-bc3c-46e7-cae7-9e86036f037e"
      },
      "execution_count": null,
      "outputs": [
        {
          "output_type": "display_data",
          "data": {
            "text/plain": [
              "<IPython.core.display.HTML object>"
            ],
            "text/html": [
              "\n",
              "     <input type=\"file\" id=\"files-5b40583d-61d7-41b3-9506-81fcbab41529\" name=\"files[]\" multiple disabled\n",
              "        style=\"border:none\" />\n",
              "     <output id=\"result-5b40583d-61d7-41b3-9506-81fcbab41529\">\n",
              "      Upload widget is only available when the cell has been executed in the\n",
              "      current browser session. Please rerun this cell to enable.\n",
              "      </output>\n",
              "      <script>// Copyright 2017 Google LLC\n",
              "//\n",
              "// Licensed under the Apache License, Version 2.0 (the \"License\");\n",
              "// you may not use this file except in compliance with the License.\n",
              "// You may obtain a copy of the License at\n",
              "//\n",
              "//      http://www.apache.org/licenses/LICENSE-2.0\n",
              "//\n",
              "// Unless required by applicable law or agreed to in writing, software\n",
              "// distributed under the License is distributed on an \"AS IS\" BASIS,\n",
              "// WITHOUT WARRANTIES OR CONDITIONS OF ANY KIND, either express or implied.\n",
              "// See the License for the specific language governing permissions and\n",
              "// limitations under the License.\n",
              "\n",
              "/**\n",
              " * @fileoverview Helpers for google.colab Python module.\n",
              " */\n",
              "(function(scope) {\n",
              "function span(text, styleAttributes = {}) {\n",
              "  const element = document.createElement('span');\n",
              "  element.textContent = text;\n",
              "  for (const key of Object.keys(styleAttributes)) {\n",
              "    element.style[key] = styleAttributes[key];\n",
              "  }\n",
              "  return element;\n",
              "}\n",
              "\n",
              "// Max number of bytes which will be uploaded at a time.\n",
              "const MAX_PAYLOAD_SIZE = 100 * 1024;\n",
              "\n",
              "function _uploadFiles(inputId, outputId) {\n",
              "  const steps = uploadFilesStep(inputId, outputId);\n",
              "  const outputElement = document.getElementById(outputId);\n",
              "  // Cache steps on the outputElement to make it available for the next call\n",
              "  // to uploadFilesContinue from Python.\n",
              "  outputElement.steps = steps;\n",
              "\n",
              "  return _uploadFilesContinue(outputId);\n",
              "}\n",
              "\n",
              "// This is roughly an async generator (not supported in the browser yet),\n",
              "// where there are multiple asynchronous steps and the Python side is going\n",
              "// to poll for completion of each step.\n",
              "// This uses a Promise to block the python side on completion of each step,\n",
              "// then passes the result of the previous step as the input to the next step.\n",
              "function _uploadFilesContinue(outputId) {\n",
              "  const outputElement = document.getElementById(outputId);\n",
              "  const steps = outputElement.steps;\n",
              "\n",
              "  const next = steps.next(outputElement.lastPromiseValue);\n",
              "  return Promise.resolve(next.value.promise).then((value) => {\n",
              "    // Cache the last promise value to make it available to the next\n",
              "    // step of the generator.\n",
              "    outputElement.lastPromiseValue = value;\n",
              "    return next.value.response;\n",
              "  });\n",
              "}\n",
              "\n",
              "/**\n",
              " * Generator function which is called between each async step of the upload\n",
              " * process.\n",
              " * @param {string} inputId Element ID of the input file picker element.\n",
              " * @param {string} outputId Element ID of the output display.\n",
              " * @return {!Iterable<!Object>} Iterable of next steps.\n",
              " */\n",
              "function* uploadFilesStep(inputId, outputId) {\n",
              "  const inputElement = document.getElementById(inputId);\n",
              "  inputElement.disabled = false;\n",
              "\n",
              "  const outputElement = document.getElementById(outputId);\n",
              "  outputElement.innerHTML = '';\n",
              "\n",
              "  const pickedPromise = new Promise((resolve) => {\n",
              "    inputElement.addEventListener('change', (e) => {\n",
              "      resolve(e.target.files);\n",
              "    });\n",
              "  });\n",
              "\n",
              "  const cancel = document.createElement('button');\n",
              "  inputElement.parentElement.appendChild(cancel);\n",
              "  cancel.textContent = 'Cancel upload';\n",
              "  const cancelPromise = new Promise((resolve) => {\n",
              "    cancel.onclick = () => {\n",
              "      resolve(null);\n",
              "    };\n",
              "  });\n",
              "\n",
              "  // Wait for the user to pick the files.\n",
              "  const files = yield {\n",
              "    promise: Promise.race([pickedPromise, cancelPromise]),\n",
              "    response: {\n",
              "      action: 'starting',\n",
              "    }\n",
              "  };\n",
              "\n",
              "  cancel.remove();\n",
              "\n",
              "  // Disable the input element since further picks are not allowed.\n",
              "  inputElement.disabled = true;\n",
              "\n",
              "  if (!files) {\n",
              "    return {\n",
              "      response: {\n",
              "        action: 'complete',\n",
              "      }\n",
              "    };\n",
              "  }\n",
              "\n",
              "  for (const file of files) {\n",
              "    const li = document.createElement('li');\n",
              "    li.append(span(file.name, {fontWeight: 'bold'}));\n",
              "    li.append(span(\n",
              "        `(${file.type || 'n/a'}) - ${file.size} bytes, ` +\n",
              "        `last modified: ${\n",
              "            file.lastModifiedDate ? file.lastModifiedDate.toLocaleDateString() :\n",
              "                                    'n/a'} - `));\n",
              "    const percent = span('0% done');\n",
              "    li.appendChild(percent);\n",
              "\n",
              "    outputElement.appendChild(li);\n",
              "\n",
              "    const fileDataPromise = new Promise((resolve) => {\n",
              "      const reader = new FileReader();\n",
              "      reader.onload = (e) => {\n",
              "        resolve(e.target.result);\n",
              "      };\n",
              "      reader.readAsArrayBuffer(file);\n",
              "    });\n",
              "    // Wait for the data to be ready.\n",
              "    let fileData = yield {\n",
              "      promise: fileDataPromise,\n",
              "      response: {\n",
              "        action: 'continue',\n",
              "      }\n",
              "    };\n",
              "\n",
              "    // Use a chunked sending to avoid message size limits. See b/62115660.\n",
              "    let position = 0;\n",
              "    do {\n",
              "      const length = Math.min(fileData.byteLength - position, MAX_PAYLOAD_SIZE);\n",
              "      const chunk = new Uint8Array(fileData, position, length);\n",
              "      position += length;\n",
              "\n",
              "      const base64 = btoa(String.fromCharCode.apply(null, chunk));\n",
              "      yield {\n",
              "        response: {\n",
              "          action: 'append',\n",
              "          file: file.name,\n",
              "          data: base64,\n",
              "        },\n",
              "      };\n",
              "\n",
              "      let percentDone = fileData.byteLength === 0 ?\n",
              "          100 :\n",
              "          Math.round((position / fileData.byteLength) * 100);\n",
              "      percent.textContent = `${percentDone}% done`;\n",
              "\n",
              "    } while (position < fileData.byteLength);\n",
              "  }\n",
              "\n",
              "  // All done.\n",
              "  yield {\n",
              "    response: {\n",
              "      action: 'complete',\n",
              "    }\n",
              "  };\n",
              "}\n",
              "\n",
              "scope.google = scope.google || {};\n",
              "scope.google.colab = scope.google.colab || {};\n",
              "scope.google.colab._files = {\n",
              "  _uploadFiles,\n",
              "  _uploadFilesContinue,\n",
              "};\n",
              "})(self);\n",
              "</script> "
            ]
          },
          "metadata": {}
        },
        {
          "output_type": "stream",
          "name": "stdout",
          "text": [
            "Saving kaggle.json to kaggle.json\n"
          ]
        },
        {
          "output_type": "execute_result",
          "data": {
            "text/plain": [
              "{'kaggle.json': b'{\"username\":\"carlosbustillo\",\"key\":\"60aea5be8b60f01d6ee908af46ecd025\"}'}"
            ]
          },
          "metadata": {},
          "execution_count": 2
        }
      ]
    },
    {
      "cell_type": "code",
      "source": [
        "!mkdir -p ~/.kaggle\n",
        "!cp kaggle.json ~/.kaggle/\n",
        "!chmod 600 /root/.kaggle/kaggle.json"
      ],
      "metadata": {
        "id": "kgDVQkKGibgT"
      },
      "execution_count": null,
      "outputs": []
    },
    {
      "cell_type": "code",
      "source": [
        "!kaggle datasets list -s telco-customer-churn"
      ],
      "metadata": {
        "colab": {
          "base_uri": "https://localhost:8080/"
        },
        "id": "b9JJy0CIhxNn",
        "outputId": "fe71e8be-52c7-4609-ded2-296b0566d803"
      },
      "execution_count": null,
      "outputs": [
        {
          "output_type": "stream",
          "name": "stdout",
          "text": [
            "ref                                                                    title                                                size  lastUpdated          downloadCount  voteCount  usabilityRating  \n",
            "---------------------------------------------------------------------  --------------------------------------------------  -----  -------------------  -------------  ---------  ---------------  \n",
            "blastchar/telco-customer-churn                                         Telco Customer Churn                                172KB  2018-02-23 18:20:00         302961       2906  0.88235295       \n",
            "abdallahwagih/telco-customer-churn                                     Telco Customer Churn                                  1MB  2024-10-11 05:27:55           1073         39  0.88235295       \n",
            "alfathterry/telco-customer-churn-11-1-3                                Telco customer churn (11.1.3+)                      513KB  2024-05-08 20:46:56           2289         47  1.0              \n",
            "yeanzc/telco-customer-churn-ibm-dataset                                Telco customer churn: IBM dataset                     1MB  2020-12-07 09:22:41          14888        101  0.7647059        \n",
            "borhanitrash/telco-customer-churn                                      Telco Customer Churn                                572KB  2024-06-16 13:53:43            437         60  0.9411765        \n",
            "ylchang/telco-customer-churn-1113                                      Telco customer churn (11.1.3+)                        3MB  2019-11-08 03:15:33           4803         35  0.5882353        \n",
            "johnflag/jb-link-telco-customer-churn                                  JB Link Telco Customer Churn                        478KB  2021-12-08 14:46:43           1106         21  1.0              \n",
            "reyhanarighy/data-telco-customer-churn                                 data telco customer churn                            39KB  2023-09-29 12:44:12            868         34  0.88235295       \n",
            "sibelius5/telco-customer-churn                                         Telco Customer Churn                                  3MB  2021-07-22 09:53:03            729          5  0.7058824        \n",
            "rhonarosecortez/telco-customer-churn                                   Telco Customer Churn                                504KB  2024-11-04 13:37:40            208          4  1.0              \n",
            "hassanelfattmi/why-do-customers-leave-can-you-spot-the-churners        Why Do Customers Leave? Can You Spot the Churners?    3MB  2024-12-21 11:49:00           1168         26  1.0              \n",
            "nithinreddy90/wa-fn-usec-telco-customer-churn                          Telco-Customer-Churn                                338KB  2023-05-27 10:03:53            160          9  0.64705884       \n",
            "palashfendarkar/wa-fnusec-telcocustomerchurn                           WA_Fn-UseC_-Telco-Customer-Churn                    172KB  2018-11-29 10:49:24           2853         10  0.1764706        \n",
            "puja19/telcom-customer-churn                                           Telcom customer churn                               172KB  2019-03-06 19:58:36           1000         13  0.1764706        \n",
            "nursyahrina/customer-churn-telco                                       Customer Churn Telco                                151KB  2023-01-20 14:32:05            194          4  0.88235295       \n",
            "anshulmehtakaggl/cdrcall-details-record-predict-telco-churn            CDR-Call Details Record Dataset                       2MB  2022-04-17 17:04:12           1316         59  0.9411765        \n",
            "easonlai/sample-telco-customer-churn-dataset                           Sample Telco Customer Churn Dataset                 146KB  2022-04-14 03:45:43            744          4  0.7647059        \n",
            "singhnproud77/telcocustomerchurn                                       Telco-customer-churn                                262KB  2021-10-26 17:43:23            142          1  0.7647059        \n",
            "aadityabansalcodes/telecommunications-industry-customer-churn-dataset  Telecommunications Industry Customer churn dataset    6MB  2023-06-08 02:31:19           2342         15  0.8235294        \n",
            "engahmedelzoz/telco-customer-churn                                     Telco Customer Churn                                172KB  2024-12-23 12:16:19             11          2  0.29411766       \n"
          ]
        }
      ]
    },
    {
      "cell_type": "code",
      "source": [
        "!kaggle datasets download -d blastchar/telco-customer-churn"
      ],
      "metadata": {
        "colab": {
          "base_uri": "https://localhost:8080/"
        },
        "id": "z10nbuiQh4av",
        "outputId": "873837d3-e7c7-4862-db2c-8ed61298e251"
      },
      "execution_count": null,
      "outputs": [
        {
          "output_type": "stream",
          "name": "stdout",
          "text": [
            "Dataset URL: https://www.kaggle.com/datasets/blastchar/telco-customer-churn\n",
            "License(s): copyright-authors\n",
            "Downloading telco-customer-churn.zip to /content\n",
            "  0% 0.00/172k [00:00<?, ?B/s]\n",
            "100% 172k/172k [00:00<00:00, 65.0MB/s]\n"
          ]
        }
      ]
    },
    {
      "cell_type": "code",
      "source": [
        "!unzip '/content/telco-customer-churn.zip'"
      ],
      "metadata": {
        "colab": {
          "base_uri": "https://localhost:8080/"
        },
        "id": "T-6HAPlAiza9",
        "outputId": "3621649a-5a75-4645-b3a2-4e2749514fce"
      },
      "execution_count": null,
      "outputs": [
        {
          "output_type": "stream",
          "name": "stdout",
          "text": [
            "Archive:  /content/telco-customer-churn.zip\n",
            "  inflating: WA_Fn-UseC_-Telco-Customer-Churn.csv  \n"
          ]
        }
      ]
    },
    {
      "cell_type": "markdown",
      "source": [
        "### 2) Preparación de la data 👌"
      ],
      "metadata": {
        "id": "HX8Q_QXsTts3"
      }
    },
    {
      "cell_type": "markdown",
      "source": [
        "### 3) Entrenamiento 💪"
      ],
      "metadata": {
        "id": "z5CReMaiYSDt"
      }
    },
    {
      "cell_type": "markdown",
      "source": [
        "### 4) Red Neuronal 😨"
      ],
      "metadata": {
        "id": "NdRZS4ZactJU"
      }
    },
    {
      "cell_type": "markdown",
      "source": [
        "### 5) Métricas 📊"
      ],
      "metadata": {
        "id": "BkY3Xe9fDhN3"
      }
    },
    {
      "cell_type": "markdown",
      "source": [
        "### 6) Guardar el modelo 💾"
      ],
      "metadata": {
        "id": "F2MHfLfbxrtc"
      }
    },
    {
      "cell_type": "markdown",
      "source": [
        "### 7) Hacer Predicciones en Producción 🤙"
      ],
      "metadata": {
        "id": "icAp1SniSDuN"
      }
    },
    {
      "cell_type": "markdown",
      "source": [
        "### 8) Conclusiones\n",
        "\n",
        "- Aprender sobre los distintos objetos y métodos que nos ofrece Tensorflow + Keras.\n",
        "\n",
        "- Realizar el proceso completo de entrenamiento de un modelo con Tensorflow + Keras.\n",
        "\n",
        "- Aprender tips sobre implementación con el uso de la GPU.\n",
        "\n",
        "<br>\n",
        "<br>\n",
        "<br>"
      ],
      "metadata": {
        "id": "Wl7v6oyFkREF"
      }
    },
    {
      "cell_type": "markdown",
      "source": [
        "---\n",
        "\n",
        "<br>\n",
        "<br>\n",
        "\n",
        "\n",
        "<img src=\"https://static.platzi.com/media/avatars/platziteam_8cfe6fc7-1246-4c9a-9f5d-d10d467443ee.png\" width=\"100px\">\n",
        "\n",
        "[Platzi](https://platzi.com/) 🚀\n",
        "\n"
      ],
      "metadata": {
        "id": "0sQ95LlzkUZN"
      }
    }
  ]
}