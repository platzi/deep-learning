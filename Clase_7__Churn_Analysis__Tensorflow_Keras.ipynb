{
  "cells": [
    {
      "cell_type": "markdown",
      "metadata": {
        "id": "E4OEtECGjKtp"
      },
      "source": [
        "# Curso Deep Learning\n",
        "\n",
        "<img src=\"https://yaelmanuel.com/wp-content/uploads/2021/12/platzi-banner-logo-matematicas.png\" width=\"500px\">\n",
        "\n",
        "---"
      ]
    },
    {
      "cell_type": "markdown",
      "metadata": {
        "id": "p_ny9c9fjbLP"
      },
      "source": [
        "## Creando nuestro propio Churn Analysis 🤓📊\n",
        "\n",
        "En este lab aprenderás:\n",
        "\n",
        "* [Tensorflow](https://www.tensorflow.org/)\n",
        "* [Keras](https://keras.io/)\n",
        "* Descargar un dataset, prepararlo, entrenarlo, realizar finetuning y guardarlo.\n"
      ]
    },
    {
      "cell_type": "markdown",
      "metadata": {
        "id": "fxgR3AqoTxQP"
      },
      "source": [
        "### 1) Descarga del dataset 🤓\n",
        "\n",
        "Utilizaremos un conjunto de datos de un proveedor de Telecomunicaciones para su Programa de Retención.\n",
        "<br>Para más detalle acá se puede ver el dataset de Kaggle: [Telco Customer Churn](https://www.kaggle.com/datasets/blastchar/telco-customer-churn/data).\n"
      ]
    },
    {
      "cell_type": "code",
      "execution_count": null,
      "metadata": {
        "id": "5WVoiMyphoSc"
      },
      "outputs": [],
      "source": [
        "!pip install --upgrade --force-reinstall --no-deps kaggle"
      ]
    },
    {
      "cell_type": "code",
      "execution_count": null,
      "metadata": {
        "id": "Lv-i750ghtiv"
      },
      "outputs": [],
      "source": [
        "from google.colab import files\n",
        "files.upload()"
      ]
    },
    {
      "cell_type": "code",
      "execution_count": null,
      "metadata": {
        "id": "kgDVQkKGibgT"
      },
      "outputs": [],
      "source": [
        "!mkdir -p ~/.kaggle\n",
        "!cp kaggle.json ~/.kaggle/\n",
        "!chmod 600 /root/.kaggle/kaggle.json"
      ]
    },
    {
      "cell_type": "code",
      "execution_count": null,
      "metadata": {
        "id": "b9JJy0CIhxNn"
      },
      "outputs": [],
      "source": [
        "!kaggle datasets list -s telco-customer-churn"
      ]
    },
    {
      "cell_type": "code",
      "execution_count": null,
      "metadata": {
        "id": "z10nbuiQh4av"
      },
      "outputs": [],
      "source": [
        "!kaggle datasets download -d blastchar/telco-customer-churn"
      ]
    },
    {
      "cell_type": "code",
      "execution_count": null,
      "metadata": {
        "id": "T-6HAPlAiza9"
      },
      "outputs": [],
      "source": [
        "!unzip '/content/telco-customer-churn.zip'"
      ]
    },
    {
      "cell_type": "markdown",
      "metadata": {
        "id": "HX8Q_QXsTts3"
      },
      "source": [
        "### 2) Preparación de la data 👌"
      ]
    },
    {
      "cell_type": "markdown",
      "metadata": {
        "id": "BYa0Tjnv74mE"
      },
      "source": [
        "#### 2.1) Instalamos las dependencias 🙌"
      ]
    },
    {
      "cell_type": "code",
      "execution_count": null,
      "metadata": {
        "id": "DRk5qVls96PG"
      },
      "outputs": [],
      "source": [
        "!pip install ydata-profiling"
      ]
    },
    {
      "cell_type": "code",
      "execution_count": null,
      "metadata": {
        "id": "Xu_qILeYSLv_"
      },
      "outputs": [],
      "source": [
        "import joblib\n",
        "import pandas as pd\n",
        "import matplotlib.pyplot as plt\n",
        "import seaborn as sns\n",
        "\n",
        "import tensorflow as tf\n",
        "from tensorflow import keras\n",
        "from tensorflow.keras.models import load_model\n",
        "from tensorflow.keras.callbacks import EarlyStopping\n",
        "\n",
        "from sklearn.preprocessing import LabelEncoder, MinMaxScaler\n",
        "from sklearn.model_selection import train_test_split\n",
        "from sklearn.metrics import confusion_matrix, classification_report, roc_curve, auc"
      ]
    },
    {
      "cell_type": "markdown",
      "metadata": {
        "id": "Ull0vjyr9Ihl"
      },
      "source": [
        "#### 2.2) Explorar Dataset 🔍"
      ]
    },
    {
      "cell_type": "code",
      "execution_count": null,
      "metadata": {
        "id": "DSj6JT8QWbtG"
      },
      "outputs": [],
      "source": [
        "!ls"
      ]
    },
    {
      "cell_type": "code",
      "execution_count": null,
      "metadata": {
        "id": "r__2J3X5sSPX"
      },
      "outputs": [],
      "source": [
        "df = pd.read_csv(\"WA_Fn-UseC_-Telco-Customer-Churn.csv\", sep=\",\")"
      ]
    },
    {
      "cell_type": "markdown",
      "metadata": {
        "id": "b0akcxXCsUJl"
      },
      "source": [
        "**Tip:** Para visualizar todas las columnas del dataframe"
      ]
    },
    {
      "cell_type": "code",
      "execution_count": null,
      "metadata": {
        "id": "2V22BAwcsaxX"
      },
      "outputs": [],
      "source": [
        "df.head(3)"
      ]
    },
    {
      "cell_type": "code",
      "execution_count": null,
      "metadata": {
        "id": "1I8KfBKFsSlQ"
      },
      "outputs": [],
      "source": [
        "pd.set_option('display.max_columns', None)"
      ]
    },
    {
      "cell_type": "code",
      "execution_count": null,
      "metadata": {
        "id": "8BgfGwLWsa2g"
      },
      "outputs": [],
      "source": [
        "df.head(3)"
      ]
    },
    {
      "cell_type": "markdown",
      "metadata": {
        "id": "4Xjwnyq7sijv"
      },
      "source": [
        "#### 2.3) EDA (Análisis Exploratorio de Datos)"
      ]
    },
    {
      "cell_type": "markdown",
      "metadata": {
        "id": "X24Wz6o87MD7"
      },
      "source": [
        "Visualizamos qué tenemos en el dataframe"
      ]
    },
    {
      "cell_type": "code",
      "execution_count": null,
      "metadata": {
        "id": "64SawhYT61gS"
      },
      "outputs": [],
      "source": [
        "# Crear un resumen utilizando funciones nativas de pandas\n",
        "def summarize_dataframe_with_pandas(df):\n",
        "    summary = df.describe(include='all').T  # Descripción general\n",
        "    summary['Type'] = df.dtypes  # Tipos de datos\n",
        "    summary['Unique Values'] = df.nunique()  # Cantidad de valores únicos\n",
        "    summary['Examples'] = df.apply(lambda col: col.dropna().unique()[:3])  # Ejemplos de valores\n",
        "\n",
        "    # Reorganizar columnas para mejor visualización\n",
        "    summary = summary[['Type', 'Unique Values', 'Examples']]\n",
        "    return summary"
      ]
    },
    {
      "cell_type": "code",
      "execution_count": null,
      "metadata": {
        "id": "6cEslJiv76pP"
      },
      "outputs": [],
      "source": [
        "summarize_dataframe_with_pandas(df)"
      ]
    },
    {
      "cell_type": "markdown",
      "metadata": {
        "id": "UNwp7HdKdZ1g"
      },
      "source": [
        "Una visualización más detallada e interactiva"
      ]
    },
    {
      "cell_type": "code",
      "execution_count": null,
      "metadata": {
        "id": "Zn1NtF3yddWT"
      },
      "outputs": [],
      "source": [
        "from ydata_profiling import ProfileReport\n",
        "\n",
        "ProfileReport(df, minimal=True)"
      ]
    },
    {
      "cell_type": "markdown",
      "metadata": {
        "id": "X_nMMYAZdjEp"
      },
      "source": [
        "#### 2.4) Valores únicos"
      ]
    },
    {
      "cell_type": "markdown",
      "metadata": {
        "id": "FzYhKk6LgPpC"
      },
      "source": [
        "Eliminar columna con valores únicos"
      ]
    },
    {
      "cell_type": "code",
      "execution_count": null,
      "metadata": {
        "id": "jBpBlS8JdpvW"
      },
      "outputs": [],
      "source": [
        "df = df.drop('customerID', axis=1)"
      ]
    },
    {
      "cell_type": "markdown",
      "metadata": {
        "id": "BbX5yn_hdrcE"
      },
      "source": [
        "Eliminar columna con que puede generar Bias o Sesgo"
      ]
    },
    {
      "cell_type": "code",
      "execution_count": null,
      "metadata": {
        "id": "dkkBy6Ladt_y"
      },
      "outputs": [],
      "source": [
        "df = df.drop('gender', axis=1)"
      ]
    },
    {
      "cell_type": "markdown",
      "metadata": {
        "id": "6uO2wy_utdOb"
      },
      "source": [
        "#### 2.5) Valores faltantes"
      ]
    },
    {
      "cell_type": "code",
      "execution_count": null,
      "metadata": {
        "id": "2Cx-F3t6tgpS"
      },
      "outputs": [],
      "source": [
        "# Evaluar cantidad de valores faltantes\n",
        "df.isnull().sum()"
      ]
    },
    {
      "cell_type": "markdown",
      "metadata": {
        "id": "UpB8G4J8t6sb"
      },
      "source": [
        "#### 2.6) Columnas Categóricas"
      ]
    },
    {
      "cell_type": "markdown",
      "metadata": {
        "id": "z_JusynMTbFK"
      },
      "source": [
        "Reeplazo de valores binarios en columnas categóricas"
      ]
    },
    {
      "cell_type": "code",
      "execution_count": null,
      "metadata": {
        "id": "zaW6B2TVSOHf"
      },
      "outputs": [],
      "source": [
        "# Evitar warning por uso de Replace\n",
        "pd.set_option('future.no_silent_downcasting', True)"
      ]
    },
    {
      "cell_type": "code",
      "execution_count": null,
      "metadata": {
        "id": "aT8zAREQEu-v"
      },
      "outputs": [],
      "source": [
        "categorical_columns = list(df.select_dtypes(include='O').keys())\n",
        "\n",
        "for i in categorical_columns:\n",
        "    df[i] = df[i].replace('Yes', 1)\n",
        "    df[i] = df[i].replace('No', 0)"
      ]
    },
    {
      "cell_type": "markdown",
      "metadata": {
        "id": "sBC3NCDLuLMX"
      },
      "source": [
        "Label Encoder"
      ]
    },
    {
      "cell_type": "code",
      "execution_count": null,
      "metadata": {
        "id": "3HdfTTXrpLIi"
      },
      "outputs": [],
      "source": [
        "# Inicializar y aplicar LabelEncoder único\n",
        "label_encoders = {}\n",
        "for col in categorical_columns:\n",
        "    le = LabelEncoder()\n",
        "    df[col] = le.fit_transform(df[col].astype(str))  # Codificar las columnas categóricas\n",
        "    label_encoders[col] = le  # Guardar el codificador único para cada columna"
      ]
    },
    {
      "cell_type": "code",
      "execution_count": null,
      "metadata": {
        "id": "L3NOyy6OZgqu"
      },
      "outputs": [],
      "source": [
        "# Guardar los label encoders\n",
        "joblib.dump(label_encoders, 'label_encoders.pkl')"
      ]
    },
    {
      "cell_type": "markdown",
      "metadata": {
        "id": "oNOGq3DnTgQN"
      },
      "source": [
        "#### 2.7) Columnas Numéricas"
      ]
    },
    {
      "cell_type": "markdown",
      "metadata": {
        "id": "bjnijN7ovJrL"
      },
      "source": [
        "Escalar la data"
      ]
    },
    {
      "cell_type": "code",
      "execution_count": null,
      "metadata": {
        "id": "ywAu-R-TvNBx"
      },
      "outputs": [],
      "source": [
        "scale_cols = ['tenure','MonthlyCharges','TotalCharges']\n",
        "\n",
        "scale = MinMaxScaler()\n",
        "df[scale_cols] = scale.fit_transform(df[scale_cols])"
      ]
    },
    {
      "cell_type": "code",
      "execution_count": null,
      "metadata": {
        "id": "kSO9nFvyZwyW"
      },
      "outputs": [],
      "source": [
        "# Guardar el escalado de datos\n",
        "joblib.dump(scale, 'scaler.pkl')"
      ]
    },
    {
      "cell_type": "markdown",
      "metadata": {
        "id": "z5CReMaiYSDt"
      },
      "source": [
        "### 3) Entrenamiento 💪"
      ]
    },
    {
      "cell_type": "code",
      "execution_count": null,
      "metadata": {
        "id": "wvL5xN1kvayu"
      },
      "outputs": [],
      "source": [
        "x = df.drop('Churn', axis=1)\n",
        "y = df['Churn']"
      ]
    },
    {
      "cell_type": "code",
      "execution_count": null,
      "metadata": {
        "id": "TdTSu9R6vdZU"
      },
      "outputs": [],
      "source": [
        "xtrain, xtest, ytrain, ytest = train_test_split(x, y, test_size=0.2)\n",
        "\n",
        "print(xtrain.shape, ytrain.shape)"
      ]
    },
    {
      "cell_type": "code",
      "execution_count": null,
      "metadata": {
        "id": "Wpy8DqtWeb7j"
      },
      "outputs": [],
      "source": [
        "print(xtest.shape, ytest.shape)"
      ]
    },
    {
      "cell_type": "markdown",
      "metadata": {
        "id": "NdRZS4ZactJU"
      },
      "source": [
        "### 4) Red Neuronal 😨"
      ]
    },
    {
      "cell_type": "code",
      "execution_count": null,
      "metadata": {
        "id": "4ibs8FIvCePP"
      },
      "outputs": [],
      "source": [
        "# Obtener el número de columnas de entrenamiento\n",
        "num_columns = 18"
      ]
    },
    {
      "cell_type": "code",
      "execution_count": null,
      "metadata": {
        "id": "vEyU0ZtdvptB"
      },
      "outputs": [],
      "source": [
        "model = keras.Sequential([\n",
        "    keras.layers.Input(shape=(num_columns,)),  # Capa de entrada con 18 características\n",
        "    keras.layers.Dense(16, activation='relu'), # Primera capa oculta\n",
        "    keras.layers.Dense(1, activation='sigmoid') # Capa de salida\n",
        "])"
      ]
    },
    {
      "cell_type": "markdown",
      "metadata": {
        "id": "rmLmslKX-4L7"
      },
      "source": [
        "**Explicación de porqué 16 neuronas:**\n",
        "\n",
        "- **Entrada:** El modelo utiliza 18 características.\n",
        "- **16 neuronas:** Elegido por ser cercano al número de características, siguiendo buenas prácticas iniciales.\n",
        "- **Balance:** Simple, funcional y eficiente para entrenamiento rápido.\n",
        "- **Base ajustable:** Diseñado para optimización futura con herramientas como KerasTuner."
      ]
    },
    {
      "cell_type": "code",
      "execution_count": null,
      "metadata": {
        "id": "Q1eO2NYB9avD"
      },
      "outputs": [],
      "source": [
        "keras.utils.plot_model(model, show_shapes=True)"
      ]
    },
    {
      "cell_type": "code",
      "source": [
        "model.compile(\n",
        "    loss = 'binary_crossentropy',\n",
        "    metrics = ['accuracy']\n",
        "    )"
      ],
      "metadata": {
        "id": "f6EgOaxIGHbX"
      },
      "execution_count": null,
      "outputs": []
    },
    {
      "cell_type": "markdown",
      "source": [
        "**Probamos con 10 epochs**"
      ],
      "metadata": {
        "id": "82F_GwtrIem-"
      }
    },
    {
      "cell_type": "code",
      "source": [
        "history = model.fit(xtrain, ytrain, epochs=10, validation_data=(xtest, ytest))"
      ],
      "metadata": {
        "id": "rOiVYTaGGUeU"
      },
      "execution_count": null,
      "outputs": []
    },
    {
      "cell_type": "markdown",
      "metadata": {
        "id": "BkY3Xe9fDhN3"
      },
      "source": [
        "### 5) Métricas 📊"
      ]
    },
    {
      "cell_type": "markdown",
      "source": [
        "**Matriz de Confusión**"
      ],
      "metadata": {
        "id": "5VCtXik4HUv5"
      }
    },
    {
      "cell_type": "code",
      "source": [
        "y_pred = (model.predict(xtest) > 0.5)  # Convertir las probabilidades a 0 o 1\n",
        "cm = confusion_matrix(ytest, y_pred)\n",
        "\n",
        "plt.figure(figsize=(6, 6))\n",
        "sns.heatmap(cm, annot=True, fmt='d', cmap='Greens', xticklabels=['No', 'Yes'], yticklabels=['No', 'Yes'])\n",
        "plt.title(\"Matriz de Confusión\")\n",
        "plt.xlabel(\"Predicción\")\n",
        "plt.ylabel(\"Real\")\n",
        "plt.show()"
      ],
      "metadata": {
        "id": "YkaiSeFJHWSK"
      },
      "execution_count": null,
      "outputs": []
    },
    {
      "cell_type": "markdown",
      "source": [
        "**Reporte de Métricas**"
      ],
      "metadata": {
        "id": "3o1bxyhoMHDX"
      }
    },
    {
      "cell_type": "code",
      "source": [
        "report = classification_report(ytest, y_pred, target_names=['No', 'Yes'])\n",
        "print(report)"
      ],
      "metadata": {
        "id": "PfAXHDpUMIpC"
      },
      "execution_count": null,
      "outputs": []
    },
    {
      "cell_type": "markdown",
      "source": [
        "**Gráfica de Accuracy**"
      ],
      "metadata": {
        "id": "_zr7H5aBH5Fz"
      }
    },
    {
      "cell_type": "code",
      "source": [
        "plt.figure(figsize=(12, 6))\n",
        "\n",
        "plt.subplot(1, 2, 1)\n",
        "plt.plot(history.history['accuracy'], label='Accuracy Entrenamiento')\n",
        "plt.plot(history.history['val_accuracy'], label='Accuracy Validación')\n",
        "plt.title('Accuracy vs Epochs')\n",
        "plt.xlabel('Epochs')\n",
        "plt.ylabel('Accuracy')\n",
        "plt.legend()\n",
        "plt.show()"
      ],
      "metadata": {
        "id": "m9lhFjPmH5pU"
      },
      "execution_count": null,
      "outputs": []
    },
    {
      "cell_type": "markdown",
      "source": [
        "**Gráfica de Loss**"
      ],
      "metadata": {
        "id": "-IdFBT7gIAXu"
      }
    },
    {
      "cell_type": "code",
      "source": [
        "plt.subplot(1, 2, 2)\n",
        "plt.plot(history.history['loss'], label='Loss Entrenamiento')\n",
        "plt.plot(history.history['val_loss'], label='Loss Validación')\n",
        "plt.title('Loss vs Epochs')\n",
        "plt.xlabel('Epochs')\n",
        "plt.ylabel('Loss')\n",
        "plt.legend()\n",
        "plt.show()"
      ],
      "metadata": {
        "colab": {
          "base_uri": "https://localhost:8080/",
          "height": 472
        },
        "id": "Wz3_0iMjICL6",
        "outputId": "44fff2d2-d21a-47bd-bd85-b42afb93e43e"
      },
      "execution_count": null,
      "outputs": [
        {
          "output_type": "display_data",
          "data": {
            "text/plain": [
              "<Figure size 640x480 with 1 Axes>"
            ],
            "image/png": "[encoded data removed]"
          },
          "metadata": {}
        }
      ]
    },
    {
      "cell_type": "markdown",
      "source": [
        "**Curva ROC**"
      ],
      "metadata": {
        "id": "IOsroFjDkjrZ"
      }
    },
    {
      "cell_type": "code",
      "source": [
        "# Obtener las predicciones de probabilidades\n",
        "y_pred_train = (model.predict(xtrain) > 0.5)  # Convertir las probabilidades a 0 o 1\n",
        "\n",
        "# Calcular las métricas de la curva ROC para entrenamiento\n",
        "fpr_train, tpr_train, _ = roc_curve(ytrain, y_pred_train)\n",
        "roc_auc_train = auc(fpr_train, tpr_train)\n",
        "\n",
        "# Calcular las métricas de la curva ROC para validación\n",
        "fpr_val, tpr_val, _ = roc_curve(ytest, y_pred)\n",
        "roc_auc_val = auc(fpr_val, tpr_val)\n",
        "\n",
        "# Graficar ambas curvas ROC\n",
        "plt.figure(figsize=(8, 6))\n",
        "plt.plot(fpr_train, tpr_train, color='blue', lw=2, label=f'Train ROC (AUC = {roc_auc_train:.2f})')\n",
        "plt.plot(fpr_val, tpr_val, color='green', lw=2, label=f'Validation ROC (AUC = {roc_auc_val:.2f})')\n",
        "plt.plot([0, 1], [0, 1], color='red', linestyle='--', lw=2, label='Random guess')\n",
        "plt.xlim([0.0, 1.0])\n",
        "plt.ylim([0.0, 1.05])\n",
        "plt.xlabel('False Positive Rate', fontsize=14)\n",
        "plt.ylabel('True Positive Rate', fontsize=14)\n",
        "plt.title('Receiver Operating Characteristic (ROC)', fontsize=16)\n",
        "plt.legend(loc=\"lower right\", fontsize=12)\n",
        "plt.grid(alpha=0.3)\n",
        "plt.show()"
      ],
      "metadata": {
        "colab": {
          "base_uri": "https://localhost:8080/",
          "height": 589
        },
        "id": "A2EZoDDgldfW",
        "outputId": "b3403b7a-39d9-43f9-e627-82dfd77b8545"
      },
      "execution_count": null,
      "outputs": [
        {
          "output_type": "stream",
          "name": "stdout",
          "text": [
            "\u001b[1m177/177\u001b[0m \u001b[32m━━━━━━━━━━━━━━━━━━━━\u001b[0m\u001b[37m\u001b[0m \u001b[1m0s\u001b[0m 1ms/step\n"
          ]
        },
        {
          "output_type": "display_data",
          "data": {
            "text/plain": [
              "<Figure size 800x600 with 1 Axes>"
            ],
            "image/png": "[encoded data removed]"
          },
          "metadata": {}
        }
      ]
    },
    {
      "cell_type": "markdown",
      "metadata": {
        "id": "F2MHfLfbxrtc"
      },
      "source": [
        "### 6) Guardar el modelo 💾"
      ]
    },
    {
      "cell_type": "markdown",
      "metadata": {
        "id": "icAp1SniSDuN"
      },
      "source": [
        "### 7) Hacer Predicciones en Producción 🤙"
      ]
    },
    {
      "cell_type": "markdown",
      "metadata": {
        "id": "Wl7v6oyFkREF"
      },
      "source": [
        "### 8) Conclusiones\n",
        "\n",
        "- Aprender sobre los distintos objetos y métodos que nos ofrece Tensorflow + Keras.\n",
        "\n",
        "- Realizar el proceso completo de entrenamiento de un modelo con Tensorflow + Keras.\n",
        "\n",
        "- Aprender tips sobre implementación con el uso de la GPU.\n",
        "\n",
        "<br>\n",
        "<br>\n",
        "<br>"
      ]
    },
    {
      "cell_type": "markdown",
      "metadata": {
        "id": "0sQ95LlzkUZN"
      },
      "source": [
        "---\n",
        "\n",
        "<br>\n",
        "<br>\n",
        "\n",
        "\n",
        "<img src=\"https://static.platzi.com/media/avatars/platziteam_8cfe6fc7-1246-4c9a-9f5d-d10d467443ee.png\" width=\"100px\">\n",
        "\n",
        "[Platzi](https://platzi.com/) 🚀\n",
        "\n"
      ]
    }
  ],
  "metadata": {
    "accelerator": "GPU",
    "colab": {
      "provenance": [],
      "collapsed_sections": [
        "z5CReMaiYSDt"
      ]
    },
    "kernelspec": {
      "display_name": "Python 3",
      "name": "python3"
    },
    "language_info": {
      "name": "python"
    }
  },
  "nbformat": 4,
  "nbformat_minor": 0
}